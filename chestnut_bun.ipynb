{
  "nbformat": 4,
  "nbformat_minor": 0,
  "metadata": {
    "colab": {
      "provenance": [],
      "authorship_tag": "ABX9TyMA8qSmY/V6fSaYbTiJxViA",
      "include_colab_link": true
    },
    "kernelspec": {
      "name": "python3",
      "display_name": "Python 3"
    },
    "language_info": {
      "name": "python"
    }
  },
  "cells": [
    {
      "cell_type": "markdown",
      "metadata": {
        "id": "view-in-github",
        "colab_type": "text"
      },
      "source": [
        "<a href=\"https://colab.research.google.com/github/Dentoniuj/studious-guide/blob/main/chestnut_bun.ipynb\" target=\"_parent\"><img src=\"https://colab.research.google.com/assets/colab-badge.svg\" alt=\"Open In Colab\"/></a>"
      ]
    },
    {
      "cell_type": "code",
      "execution_count": null,
      "metadata": {
        "colab": {
          "base_uri": "https://localhost:8080/"
        },
        "id": "KKTtg_D90hbJ",
        "outputId": "7e344847-0964-4ef8-8469-2b62a2218c23"
      },
      "outputs": [
        {
          "output_type": "stream",
          "name": "stdout",
          "text": [
            "885\n"
          ]
        }
      ],
      "source": [
        "import math \n",
        "chestnut_bun = 6 * 4 * 3 /1000000\n",
        "solar_system = math.pi * 3 * (15 * 10 **15)**3 / 4\n",
        "\n",
        "def minutes_covering(original_size, sprinkle_size):\n",
        "    count = 0 \n",
        "    while original_size < sprinkle_size:\n",
        "\n",
        "         original_size *= 2\n",
        "         count += 1\n",
        "    minute = count * 5\n",
        "    return minute \n",
        "\n",
        "print(minutes_covering(chestnut_bun, solar_system))\n",
        "#minutes_covering(chestnut_bun, solar_system)"
      ]
    },
    {
      "cell_type": "markdown",
      "source": [
        "the time it takes for Tokyo dome to be filled up when you sprinkle a ball with Byrvine"
      ],
      "metadata": {
        "id": "4q6hq0nM3tQX"
      }
    },
    {
      "cell_type": "code",
      "source": [
        "tokyo_dome = 1240000\n",
        "print(\"{} minutes\" .format(minutes_covering(chestnut_bun, tokyo_dome)))"
      ],
      "metadata": {
        "colab": {
          "base_uri": "https://localhost:8080/"
        },
        "id": "HFYmdqW933bl",
        "outputId": "74b9eabd-04e2-4117-c07f-7aece189f231"
      },
      "execution_count": null,
      "outputs": [
        {
          "output_type": "stream",
          "name": "stdout",
          "text": [
            "175 minutes\n"
          ]
        }
      ]
    }
  ]
}