{
  "nbformat": 4,
  "nbformat_minor": 0,
  "metadata": {
    "colab": {
      "provenance": [],
      "authorship_tag": "ABX9TyMuJN56K7EzxNUzctbcWuXR",
      "include_colab_link": true
    },
    "kernelspec": {
      "name": "python3",
      "display_name": "Python 3"
    },
    "language_info": {
      "name": "python"
    }
  },
  "cells": [
    {
      "cell_type": "markdown",
      "metadata": {
        "id": "view-in-github",
        "colab_type": "text"
      },
      "source": [
        "<a href=\"https://colab.research.google.com/github/Dentoniuj/studious-guide/blob/main/Untitled10.ipynb\" target=\"_parent\"><img src=\"https://colab.research.google.com/assets/colab-badge.svg\" alt=\"Open In Colab\"/></a>"
      ]
    },
    {
      "cell_type": "code",
      "execution_count": null,
      "metadata": {
        "colab": {
          "base_uri": "https://localhost:8080/"
        },
        "id": "--AQSE2FLKAg",
        "outputId": "7e5a3e98-440f-4354-b03b-2458dda62a6f"
      },
      "outputs": [
        {
          "output_type": "stream",
          "name": "stdout",
          "text": [
            "26\n"
          ]
        }
      ],
      "source": [
        "MT_Fuji = 3776\n",
        "Thickness = 0.00008\n",
        "\n",
        "def folds_exceed_height(height=1000, thickness=0.00008):\n",
        "  if height < thickness:\n",
        "     return 0\n",
        "  fold_thickness = 0\n",
        "  i = 0\n",
        "  while height > fold_thickness:\n",
        "    i += 1\n",
        "    fold_thickness = thickness * 2 ** i\n",
        "  return i\n",
        "\n",
        "print(folds_exceed_height(MT_Fuji ,Thickness))"
      ]
    },
    {
      "cell_type": "markdown",
      "source": [
        "Problem 2"
      ],
      "metadata": {
        "id": "xInn4El-Q_nR"
      }
    },
    {
      "cell_type": "code",
      "source": [
        "#The program that allow input from user\n",
        "import math \n",
        "thickness = 0.00008\n",
        "def number_of_fold(distance):\n",
        "  number_of_folds = math.log(distance/thickness)/ math.log(2)\n",
        "  return number_of_folds\n",
        "number_of_folds = number_of_fold(distance = float(input(\"Enter the Distance: \")))\n",
        "print(\"The number of folds is: \", round(number_of_folds), \"Times\")"
      ],
      "metadata": {
        "id": "m358q3B6RET9",
        "colab": {
          "base_uri": "https://localhost:8080/"
        },
        "outputId": "7ceff019-8378-47c4-9cae-9e667525b53f"
      },
      "execution_count": 2,
      "outputs": [
        {
          "output_type": "stream",
          "name": "stdout",
          "text": [
            "Enter the Distance: 3245678900\n",
            "The number of folds is:  45 Times\n"
          ]
        }
      ]
    },
    {
      "cell_type": "code",
      "source": [
        "import math \n",
        "thickness = 0.00008\n",
        "def number_of_fold(distance):\n",
        "    number_of_folds = math.log(distance/thickness/ math.log(2))\n",
        "    return number_of_folds\n",
        "number_of_folds = number_of_fold(distance = 42080000000000)\n",
        "print(\"the nuber of fold is: \", round(number_of_folds), \"times\")\n"
      ],
      "metadata": {
        "colab": {
          "base_uri": "https://localhost:8080/"
        },
        "id": "xEyvRDOI4g38",
        "outputId": "a8388964-98da-4427-e4e0-c8b46988c655"
      },
      "execution_count": 4,
      "outputs": [
        {
          "output_type": "stream",
          "name": "stdout",
          "text": [
            "the nuber of fold is:  41 times\n"
          ]
        }
      ]
    }
  ]
}