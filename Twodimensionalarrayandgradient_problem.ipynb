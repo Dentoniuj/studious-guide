{
  "cells": [
    {
      "cell_type": "markdown",
      "metadata": {
        "id": "view-in-github",
        "colab_type": "text"
      },
      "source": [
        "<a href=\"https://colab.research.google.com/github/Dentoniuj/studious-guide/blob/main/Twodimensionalarrayandgradient_problem.ipynb\" target=\"_parent\"><img src=\"https://colab.research.google.com/assets/colab-badge.svg\" alt=\"Open In Colab\"/></a>"
      ]
    },
    {
      "cell_type": "markdown",
      "metadata": {
        "id": "0RHTYKprNAFD"
      },
      "source": [
        "Problem 1"
      ]
    },
    {
      "cell_type": "code",
      "execution_count": null,
      "metadata": {
        "colab": {
          "base_uri": "https://localhost:8080/"
        },
        "id": "Pm1zhOmGNAFT",
        "outputId": "725abbbe-4f19-4c7b-dacc-1299074409c3"
      },
      "outputs": [
        {
          "output_type": "stream",
          "name": "stdout",
          "text": [
            "[-50.  -49.9 -49.8 ...  49.8  49.9  50. ]\n",
            "[-24.   -23.95 -23.9  ...  25.9   25.95  26.  ]\n"
          ]
        },
        {
          "output_type": "execute_result",
          "data": {
            "text/plain": [
              "(1001,)"
            ]
          },
          "metadata": {},
          "execution_count": 1
        }
      ],
      "source": [
        "import numpy as np\n",
        "from matplotlib import pyplot as plt\n",
        "%matplotlib inline\n",
        "\n",
        "x_array = np.arange(-50, 50.1, 0.1)\n",
        "y_array = x_array/2 + 1\n",
        "\n",
        "print(x_array)\n",
        "print(y_array)\n",
        "\n",
        "x_array.shape"
      ]
    },
    {
      "cell_type": "markdown",
      "metadata": {
        "id": "eRRtpckPNAFc"
      },
      "source": [
        "Problem 2\n",
        "\n",
        "---\n",
        "\n"
      ]
    },
    {
      "cell_type": "code",
      "execution_count": null,
      "metadata": {
        "colab": {
          "base_uri": "https://localhost:8080/"
        },
        "id": "zfMGL3vrNAFf",
        "outputId": "0891b96e-656d-4694-8195-ca9324b573a3"
      },
      "outputs": [
        {
          "output_type": "stream",
          "name": "stdout",
          "text": [
            "[[-50.   -24.  ]\n",
            " [-49.9  -23.95]\n",
            " [-49.8  -23.9 ]\n",
            " ...\n",
            " [ 49.8   25.9 ]\n",
            " [ 49.9   25.95]\n",
            " [ 50.    26.  ]]\n"
          ]
        },
        {
          "output_type": "execute_result",
          "data": {
            "text/plain": [
              "(1001, 2)"
            ]
          },
          "metadata": {},
          "execution_count": 2
        }
      ],
      "source": [
        "xy_array = np.concatenate((x_array[:,np.newaxis], y_array[:,np.newaxis]), axis=1)\n",
        "print(xy_array)\n",
        "xy_array.shape"
      ]
    },
    {
      "cell_type": "markdown",
      "metadata": {
        "id": "d_DvYHz5NAFi"
      },
      "source": [
        "Problem 3"
      ]
    },
    {
      "cell_type": "code",
      "execution_count": null,
      "metadata": {
        "id": "lSSpic1ANAFj"
      },
      "outputs": [],
      "source": [
        "gradient = (xy_array[1:, 1] - xy_array[:-1, 1])/(xy_array[1:,0] - xy_array[:-1, 0])\n",
        "print(gradient)"
      ]
    },
    {
      "cell_type": "code",
      "source": [
        "xy_array[1:, 1]\n",
        "xy_array[:-1, 1]"
      ],
      "metadata": {
        "id": "3H9mnpCojcj7"
      },
      "execution_count": null,
      "outputs": []
    },
    {
      "cell_type": "code",
      "execution_count": null,
      "metadata": {
        "id": "DQE8tI-PNAFl"
      },
      "outputs": [],
      "source": [
        "x = x_array\n",
        "y = y_array\n",
        "gradient = np.array(y[1:] - y[:-1])/(x[1:] - x[:-1])\n",
        "\n",
        "print(gradient)\n",
        "print(gradient.shape)"
      ]
    },
    {
      "cell_type": "markdown",
      "metadata": {
        "id": "efEzUfkKNAFo"
      },
      "source": [
        "\n",
        "Problem 4"
      ]
    },
    {
      "cell_type": "code",
      "execution_count": null,
      "metadata": {
        "id": "5B3q6nK0NAFq"
      },
      "outputs": [],
      "source": [
        "plt.title(\"y=x/2 + 1\")\n",
        "plt.xlabel(\"X\")\n",
        "plt.ylabel(\"Y\")\n",
        "plt.plot(xy_array[:,0], xy_array[:,1])\n",
        "plt.show()"
      ]
    },
    {
      "cell_type": "code",
      "execution_count": null,
      "metadata": {
        "id": "RnEuVC0GNAFx"
      },
      "outputs": [],
      "source": [
        "plt.title(\"Gradient of y=x/2 + 1\")\n",
        "plt.xlabel(\"X\")\n",
        "plt.ylabel(\"gradient\")\n",
        "plt.plot(xy_array[:-1, 0], gradient)\n",
        "plt.show()"
      ]
    },
    {
      "cell_type": "markdown",
      "metadata": {
        "id": "ZF3pbCbJNAFz"
      },
      "source": [
        "Problem 5"
      ]
    },
    {
      "cell_type": "code",
      "execution_count": null,
      "metadata": {
        "id": "qDBGorm_NAF4",
        "outputId": "494377c0-c737-43a2-a02c-a9038bf7aefa"
      },
      "outputs": [
        {
          "data": {
            "image/png": "[encoded data removed]",
            "text/plain": [
              "<Figure size 432x288 with 1 Axes>"
            ]
          },
          "metadata": {
            "needs_background": "light"
          },
          "output_type": "display_data"
        },
        {
          "data": {
            "image/png": "[encoded data removed]",
            "text/plain": [
              "<Figure size 432x288 with 1 Axes>"
            ]
          },
          "metadata": {
            "needs_background": "light"
          },
          "output_type": "display_data"
        }
      ],
      "source": [
        "plt.title(\"y=x**2\")\n",
        "plt.xlabel(\"X\")\n",
        "plt.ylabel(\"Y\")\n",
        "plt.plot(xy_array1[:,0], xy_array1[:,1])\n",
        "plt.show()\n",
        "\n",
        "plt.title(\"gradient of y=x**2\")\n",
        "plt.xlabel(\"X\")\n",
        "plt.ylabel(\"gradient\")\n",
        "plt.plot(xy_array1[:-1,0], gradient1)\n",
        "plt.show()"
      ]
    },
    {
      "cell_type": "code",
      "execution_count": null,
      "metadata": {
        "id": "lHeg8jKTNAF8",
        "outputId": "dfd5240f-ee90-44d0-8da3-e430bfb7a8dc"
      },
      "outputs": [
        {
          "data": {
            "image/png": "[encoded data removed]",
            "text/plain": [
              "<Figure size 432x288 with 1 Axes>"
            ]
          },
          "metadata": {
            "needs_background": "light"
          },
          "output_type": "display_data"
        },
        {
          "data": {
            "image/png": "[encoded data removed]",
            "text/plain": [
              "<Figure size 432x288 with 1 Axes>"
            ]
          },
          "metadata": {
            "needs_background": "light"
          },
          "output_type": "display_data"
        }
      ],
      "source": [
        "plt.title(\"y=2*x**2 + 2**x\")\n",
        "plt.xlabel(\"X\")\n",
        "plt.ylabel(\"Y\")\n",
        "plt.plot(xy_array2[:,0], xy_array2[:,1])\n",
        "plt.show()\n",
        "\n",
        "plt.title(\"gradient of y=2*x**2 + 2**x\")\n",
        "plt.xlabel(\"X\")\n",
        "plt.ylabel(\"gradient\")\n",
        "plt.plot(xy_array2[:-1 ,0], gradient2)\n",
        "plt.show()"
      ]
    },
    {
      "cell_type": "code",
      "execution_count": null,
      "metadata": {
        "id": "8hf_d5ixNAF-",
        "outputId": "7eea9fb0-7fe2-433e-9ccd-9ff42e0e3397"
      },
      "outputs": [
        {
          "name": "stdout",
          "output_type": "stream",
          "text": [
            "(array([[ 0.        ,  0.        ],\n",
            "       [ 0.1       ,  0.31622777],\n",
            "       [ 0.2       ,  0.4472136 ],\n",
            "       ...,\n",
            "       [49.8       ,  7.05691151],\n",
            "       [49.9       ,  7.0639932 ],\n",
            "       [50.        ,  7.07106781]]), array([3.16227766, 1.30985829, 1.00508962, 0.84732975, 0.74651249,\n",
            "       0.67489888, 0.62063357, 0.57767164, 0.54256107, 0.51316702,\n",
            "       0.48808848, 0.46636267, 0.4473031 , 0.43040532, 0.41528915,\n",
            "       0.40166193, 0.38929417, 0.37800305, 0.36764089, 0.35808687,\n",
            "       0.34924112, 0.34102023, 0.33335391, 0.3261825 , 0.31945492,\n",
            "       0.3131272 , 0.30716123, 0.30152381, 0.29618584, 0.29112171,\n",
            "       0.28630879, 0.28172696, 0.2773583 , 0.27318679, 0.26919802,\n",
            "       0.26537903, 0.2617181 , 0.25820463, 0.25482897, 0.25158234,\n",
            "       0.24845673, 0.2454448 , 0.24253982, 0.23973561, 0.23702647,\n",
            "       0.23440715, 0.2318728 , 0.22941891, 0.22704132, 0.22473615,\n",
            "       0.22249981, 0.22032892, 0.21822036, 0.21617121, 0.21417872,\n",
            "       0.21224033, 0.21035364, 0.20851638, 0.20672645, 0.20498182,\n",
            "       0.20328064, 0.20162113, 0.2000016 , 0.19842049, 0.19687629,\n",
            "       0.19536759, 0.19389305, 0.19245141, 0.19104145, 0.18966204,\n",
            "       0.18831208, 0.18699054, 0.18569644, 0.18442885, 0.18318686,\n",
            "       0.18196963, 0.18077635, 0.17960624, 0.17845856, 0.1773326 ,\n",
            "       0.17622769, 0.17514319, 0.17407846, 0.17303291, 0.17200598,\n",
            "       0.17099712, 0.17000581, 0.16903154, 0.16807383, 0.16713222,\n",
            "       0.16620626, 0.16529552, 0.16439959, 0.16351807, 0.16265058,\n",
            "       0.16179675, 0.16095624, 0.16012868, 0.15931376, 0.15851116,\n",
            "       0.15772056, 0.15694168, 0.15617423, 0.15541792, 0.1546725 ,\n",
            "       0.1539377 , 0.15321328, 0.15249898, 0.15179459, 0.15109987,\n",
            "       0.15041459, 0.14973856, 0.14907157, 0.1484134 , 0.14776388,\n",
            "       0.14712282, 0.14649002, 0.14586532, 0.14524855, 0.14463953,\n",
            "       0.14403811, 0.14344413, 0.14285744, 0.14227789, 0.14170534,\n",
            "       0.14113964, 0.14058066, 0.14002828, 0.13948235, 0.13894276,\n",
            "       0.13840939, 0.13788211, 0.13736081, 0.13684538, 0.13633571,\n",
            "       0.13583169, 0.13533322, 0.1348402 , 0.13435252, 0.1338701 ,\n",
            "       0.13339284, 0.13292065, 0.13245344, 0.13199112, 0.13153361,\n",
            "       0.13108082, 0.13063268, 0.1301891 , 0.12975001, 0.12931533,\n",
            "       0.12888499, 0.12845892, 0.12803705, 0.12761931, 0.12720563,\n",
            "       0.12679595, 0.1263902 , 0.12598832, 0.12559025, 0.12519593,\n",
            "       0.1248053 , 0.1244183 , 0.12403488, 0.12365499, 0.12327856,\n",
            "       0.12290555, 0.12253591, 0.12216958, 0.12180652, 0.12144667,\n",
            "       0.12109   , 0.12073645, 0.12038598, 0.12003854, 0.1196941 ,\n",
            "       0.1193526 , 0.11901401, 0.11867828, 0.11834538, 0.11801527,\n",
            "       0.1176879 , 0.11736324, 0.11704126, 0.11672191, 0.11640516,\n",
            "       0.11609097, 0.11577932, 0.11547016, 0.11516346, 0.1148592 ,\n",
            "       0.11455733, 0.11425783, 0.11396067, 0.11366582, 0.11337324,\n",
            "       0.11308291, 0.1127948 , 0.11250888, 0.11222512, 0.1119435 ,\n",
            "       0.11166399, 0.11138657, 0.1111112 , 0.11083786, 0.11056653,\n",
            "       0.11029718, 0.11002979, 0.10976434, 0.1095008 , 0.10923915,\n",
            "       0.10897936, 0.10872142, 0.1084653 , 0.10821099, 0.10795845,\n",
            "       0.10770768, 0.10745864, 0.10721132, 0.10696571, 0.10672177,\n",
            "       0.1064795 , 0.10623886, 0.10599985, 0.10576245, 0.10552664,\n",
            "       0.10529239, 0.1050597 , 0.10482855, 0.10459891, 0.10437078,\n",
            "       0.10414413, 0.10391895, 0.10369523, 0.10347295, 0.10325208,\n",
            "       0.10303263, 0.10281457, 0.10259789, 0.10238258, 0.10216861,\n",
            "       0.10195598, 0.10174467, 0.10153467, 0.10132597, 0.10111854,\n",
            "       0.10091239, 0.10070749, 0.10050383, 0.10030141, 0.1001002 ,\n",
            "       0.0999002 , 0.09970139, 0.09950377, 0.09930731, 0.09911202,\n",
            "       0.09891787, 0.09872486, 0.09853297, 0.0983422 , 0.09815254,\n",
            "       0.09796396, 0.09777647, 0.09759005, 0.09740469, 0.09722039,\n",
            "       0.09703713, 0.0968549 , 0.09667369, 0.0964935 , 0.09631431,\n",
            "       0.09613611, 0.0959589 , 0.09578267, 0.0956074 , 0.0954331 ,\n",
            "       0.09525974, 0.09508732, 0.09491584, 0.09474528, 0.09457564,\n",
            "       0.0944069 , 0.09423907, 0.09407212, 0.09390606, 0.09374088,\n",
            "       0.09357657, 0.09341312, 0.09325052, 0.09308876, 0.09292785,\n",
            "       0.09276777, 0.09260851, 0.09245007, 0.09229244, 0.09213561,\n",
            "       0.09197958, 0.09182434, 0.09166988, 0.0915162 , 0.09136329,\n",
            "       0.09121115, 0.09105976, 0.09090912, 0.09075923, 0.09061008,\n",
            "       0.09046166, 0.09031397, 0.09016699, 0.09002074, 0.08987519,\n",
            "       0.08973035, 0.0895862 , 0.08944275, 0.08929998, 0.0891579 ,\n",
            "       0.08901649, 0.08887575, 0.08873568, 0.08859627, 0.08845751,\n",
            "       0.0883194 , 0.08818194, 0.08804512, 0.08790893, 0.08777337,\n",
            "       0.08763844, 0.08750413, 0.08737043, 0.08723735, 0.08710487,\n",
            "       0.08697299, 0.08684171, 0.08671102, 0.08658092, 0.08645141,\n",
            "       0.08632247, 0.08619411, 0.08606632, 0.0859391 , 0.08581244,\n",
            "       0.08568633, 0.08556079, 0.08543579, 0.08531134, 0.08518743,\n",
            "       0.08506406, 0.08494122, 0.08481891, 0.08469714, 0.08457588,\n",
            "       0.08445514, 0.08433492, 0.08421521, 0.08409601, 0.08397732,\n",
            "       0.08385912, 0.08374142, 0.08362422, 0.08350751, 0.08339128,\n",
            "       0.08327554, 0.08316028, 0.0830455 , 0.08293119, 0.08281735,\n",
            "       0.08270398, 0.08259107, 0.08247863, 0.08236664, 0.08225511,\n",
            "       0.08214403, 0.0820334 , 0.08192321, 0.08181347, 0.08170416,\n",
            "       0.0815953 , 0.08148687, 0.08137886, 0.08127129, 0.08116414,\n",
            "       0.08105742, 0.08095111, 0.08084523, 0.08073975, 0.08063469,\n",
            "       0.08053004, 0.08042579, 0.08032195, 0.08021851, 0.08011547,\n",
            "       0.08001282, 0.07991057, 0.0798087 , 0.07970723, 0.07960614,\n",
            "       0.07950544, 0.07940512, 0.07930517, 0.07920561, 0.07910641,\n",
            "       0.07900759, 0.07890914, 0.07881106, 0.07871334, 0.07861598,\n",
            "       0.07851898, 0.07842234, 0.07832606, 0.07823013, 0.07813455,\n",
            "       0.07803932, 0.07794444, 0.07784991, 0.07775572, 0.07766187,\n",
            "       0.07756835, 0.07747518, 0.07738234, 0.07728983, 0.07719765,\n",
            "       0.07710581, 0.07701429, 0.07692309, 0.07683222, 0.07674167,\n",
            "       0.07665144, 0.07656152, 0.07647192, 0.07638264, 0.07629367,\n",
            "       0.07620501, 0.07611665, 0.0760286 , 0.07594086, 0.07585342,\n",
            "       0.07576629, 0.07567945, 0.07559291, 0.07550666, 0.07542071,\n",
            "       0.07533506, 0.07524969, 0.07516461, 0.07507983, 0.07499532,\n",
            "       0.07491111, 0.07482717, 0.07474352, 0.07466015, 0.07457705,\n",
            "       0.07449424, 0.07441169, 0.07432943, 0.07424743, 0.0741657 ,\n",
            "       0.07408425, 0.07400306, 0.07392214, 0.07384148, 0.07376109,\n",
            "       0.07368096, 0.07360108, 0.07352147, 0.07344212, 0.07336302,\n",
            "       0.07328418, 0.07320559, 0.07312725, 0.07304917, 0.07297133,\n",
            "       0.07289374, 0.0728164 , 0.07273931, 0.07266246, 0.07258585,\n",
            "       0.07250948, 0.07243336, 0.07235747, 0.07228182, 0.07220641,\n",
            "       0.07213123, 0.07205629, 0.07198158, 0.07190711, 0.07183286,\n",
            "       0.07175885, 0.07168506, 0.0716115 , 0.07153816, 0.07146505,\n",
            "       0.07139217, 0.0713195 , 0.07124706, 0.07117484, 0.07110283,\n",
            "       0.07103105, 0.07095948, 0.07088813, 0.07081699, 0.07074607]))\n"
          ]
        }
      ],
      "source": [
        "def compute_gradient(function, x_range = (0, 50.1, 0.1)):\n",
        "    x_array = np.arange(*x_range)\n",
        "    y_array = function(x_array)\n",
        "    \n",
        "    xy_array = np.concatenate((x_array[:,np.newaxis], y_array[:,np.newaxis]), axis=1)\n",
        "    gradient = (xy_array[1:, 1] - xy_array[:-1, 1])/(xy_array[1:,0] - xy_array[:-1, 0])\n",
        "    return xy_array, gradient\n",
        "\n",
        "def function3(x_array):\n",
        "    y_array = x_array**0.5\n",
        "    return x_array**0.5\n",
        "\n",
        "xy_array3, gradient3 = compute_gradient(function3)\n",
        "print(compute_gradient(function3))"
      ]
    },
    {
      "cell_type": "markdown",
      "metadata": {
        "id": "gNcwSW4BNAGC"
      },
      "source": [
        "Problem 6"
      ]
    },
    {
      "cell_type": "code",
      "execution_count": null,
      "metadata": {
        "id": "cqeP3SOHNAGD",
        "outputId": "d40a841d-bc97-4cfa-93a7-dd948d121351"
      },
      "outputs": [
        {
          "name": "stdout",
          "output_type": "stream",
          "text": [
            "5.048709793414476e-25 500\n",
            "0.9505505632959851 498\n",
            "0.0 0\n"
          ]
        }
      ],
      "source": [
        "print(xy_array1.min(axis=0)[1], xy_array1.argmin(axis=0)[1])\n",
        "print(xy_array2.min(axis=0)[1], xy_array2.argmin(axis=0)[1])\n",
        "print(xy_array3.min(axis=0)[1], xy_array3.argmin(axis=0)[1])"
      ]
    },
    {
      "cell_type": "code",
      "execution_count": null,
      "metadata": {
        "id": "2ag3fBetNAGF",
        "outputId": "5b7e0568-2942-4840-c8c5-e7ca2aff8db5"
      },
      "outputs": [
        {
          "data": {
            "text/plain": [
              "array([-1.9, -1.7, -1.5, -1.3, -1.1, -0.9, -0.7, -0.5, -0.3, -0.1,  0.1,\n",
              "        0.3,  0.5,  0.7,  0.9,  1.1,  1.3,  1.5,  1.7,  1.9])"
            ]
          },
          "execution_count": 19,
          "metadata": {},
          "output_type": "execute_result"
        }
      ],
      "source": [
        "gradient1[490:510]"
      ]
    },
    {
      "cell_type": "code",
      "execution_count": null,
      "metadata": {
        "id": "yrhIGK2JNAGG",
        "outputId": "4eb25647-5894-47fc-9e41-d57088b4210c"
      },
      "outputs": [
        {
          "data": {
            "text/plain": [
              "array([-4.28758786, -3.86516496, -3.44113269, -3.01537554, -2.58776971,\n",
              "       -2.15818251, -1.72647174, -1.29248498, -0.85605887, -0.41701833,\n",
              "        0.02482428,  0.46967008,  0.91773463,  1.36924892,  1.82446058,\n",
              "        2.28363497,  2.74705652,  3.21503004,  3.68788226,  4.16596334])"
            ]
          },
          "execution_count": 20,
          "metadata": {},
          "output_type": "execute_result"
        }
      ],
      "source": [
        "gradient2[488:508]"
      ]
    },
    {
      "cell_type": "code",
      "execution_count": null,
      "metadata": {
        "id": "nX3AwT-ZNAGH",
        "outputId": "56cf374e-8d23-4cc6-e2ff-aff4db5298ab"
      },
      "outputs": [
        {
          "data": {
            "text/plain": [
              "array([0.1084653 , 0.10821099, 0.10795845, 0.10770768, 0.10745864,\n",
              "       0.10721132, 0.10696571, 0.10672177, 0.1064795 , 0.10623886,\n",
              "       0.10599985, 0.10576245, 0.10552664, 0.10529239, 0.1050597 ,\n",
              "       0.10482855, 0.10459891, 0.10437078, 0.10414413, 0.10391895])"
            ]
          },
          "execution_count": 21,
          "metadata": {},
          "output_type": "execute_result"
        }
      ],
      "source": [
        "gradient3[212:232]"
      ]
    },
    {
      "cell_type": "code",
      "execution_count": null,
      "metadata": {
        "id": "FW_Bk5lNNAGI"
      },
      "outputs": [],
      "source": []
    }
  ],
  "metadata": {
    "kernelspec": {
      "display_name": "Python 3",
      "language": "python",
      "name": "python3"
    },
    "language_info": {
      "codemirror_mode": {
        "name": "ipython",
        "version": 3
      },
      "file_extension": ".py",
      "mimetype": "text/x-python",
      "name": "python",
      "nbconvert_exporter": "python",
      "pygments_lexer": "ipython3",
      "version": "3.8.5"
    },
    "colab": {
      "provenance": [],
      "include_colab_link": true
    }
  },
  "nbformat": 4,
  "nbformat_minor": 0
}