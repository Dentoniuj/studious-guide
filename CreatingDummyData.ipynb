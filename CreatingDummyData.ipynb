{
  "cells": [
    {
      "cell_type": "markdown",
      "metadata": {
        "id": "view-in-github",
        "colab_type": "text"
      },
      "source": [
        "<a href=\"https://colab.research.google.com/github/Dentoniuj/studious-guide/blob/main/CreatingDummyData.ipynb\" target=\"_parent\"><img src=\"https://colab.research.google.com/assets/colab-badge.svg\" alt=\"Open In Colab\"/></a>"
      ]
    },
    {
      "cell_type": "code",
      "execution_count": null,
      "metadata": {
        "id": "6wu2kQWj0_n4"
      },
      "outputs": [],
      "source": [
        "import numpy as np\n",
        "#create  the variables\n",
        "mean = [-3, 0]\n",
        "cov = [[1.0, 0.8], [0.8, 1.0]]\n",
        "seed = np.random.seed(0)\n",
        "rand_num = np.random.multivariate_normal(mean, cov, 500)\n",
        "print(rand_num)\n",
        "rand_num.shape"
      ]
    },
    {
      "cell_type": "code",
      "source": [
        "rand_num.shape"
      ],
      "metadata": {
        "colab": {
          "base_uri": "https://localhost:8080/"
        },
        "id": "Aw8h2ikSJnBu",
        "outputId": "c5a8df2e-77a6-4952-9bfa-ebb406d89d53"
      },
      "execution_count": null,
      "outputs": [
        {
          "output_type": "execute_result",
          "data": {
            "text/plain": [
              "(500, 2)"
            ]
          },
          "metadata": {},
          "execution_count": 4
        }
      ]
    },
    {
      "cell_type": "code",
      "execution_count": null,
      "metadata": {
        "id": "Bf4kIm1n0_oH"
      },
      "outputs": [],
      "source": [
        "from matplotlib import pyplot as plt\n",
        "%matplotlib inline\n",
        "plt.title(\"Visualization by scatter plot\")\n",
        "plt.xlabel(\"x1\")\n",
        "plt.ylabel(\"x2\")\n",
        "plt.scatter(rand_num[:,0], rand_num[:,1])\n"
      ]
    },
    {
      "cell_type": "code",
      "execution_count": null,
      "metadata": {
        "id": "jaZARvo80_oO"
      },
      "outputs": [],
      "source": [
        "import matplotlib.pyplot as plt\n",
        "%matplotlib inline\n",
        "plt.xlabel('x1')\n",
        "plt.ylabel('frequency')\n",
        "plt.title('Histogram of x1')\n",
        "plt.hist(rand_num[:,0])\n",
        "plt.xlim(left=-5)\n",
        "plt.show()"
      ]
    },
    {
      "cell_type": "code",
      "execution_count": null,
      "metadata": {
        "id": "XaZX2BHU0_oR"
      },
      "outputs": [],
      "source": [
        "import matplotlib.pyplot as plt\n",
        "%matplotlib inline\n",
        "plt.xlabel('x2')\n",
        "plt.ylabel('frequency')\n",
        "plt.title('Histogram of x2')\n",
        "plt.hist(rand_num[:,1])\n",
        "plt.xlim(right=2)\n",
        "plt.show()"
      ]
    },
    {
      "cell_type": "code",
      "execution_count": null,
      "metadata": {
        "id": "C02uiffG0_oY"
      },
      "outputs": [],
      "source": [
        "mean = [0, -3]\n",
        "cov = [[1.0, 0.8], [0.8, 1.0]]\n",
        "seed = np.random.seed(0)\n",
        "rand_num1 = np.random.multivariate_normal(mean, cov, 500)\n",
        "print(rand_num1)"
      ]
    },
    {
      "cell_type": "code",
      "execution_count": null,
      "metadata": {
        "id": "L84Z1kQO0_od"
      },
      "outputs": [],
      "source": [
        "from matplotlib import pyplot as plt\n",
        "%matplotlib inline\n",
        "#plt.figure(figsize=(20,20))\n",
        "plt.title(\"Two in one scatter plot\")\n",
        "plt.xlabel(\"x1\")\n",
        "plt.ylabel(\"x2\")\n",
        "\n",
        "plt.scatter(rand_num[:,0], rand_num[:,1],s=20, label='0', marker='o')\n",
        "\n",
        "plt.scatter(rand_num1[:,0], rand_num1[:,1], s=20,label='1', marker='o')\n",
        "plt.legend()\n",
        "plt.show()\n"
      ]
    },
    {
      "cell_type": "code",
      "execution_count": null,
      "metadata": {
        "colab": {
          "base_uri": "https://localhost:8080/"
        },
        "id": "jmuuw2r60_oj",
        "outputId": "52dbae81-0616-47b3-fbce-0985fc1df606"
      },
      "outputs": [
        {
          "output_type": "stream",
          "name": "stdout",
          "text": [
            "[[-4.80006782 -1.54698618]\n",
            " [-4.63714503 -0.21987973]\n",
            " [-4.46267867 -2.08076347]\n",
            " ...\n",
            " [-0.40484501 -3.14372258]\n",
            " [ 0.1584315  -2.78199606]\n",
            " [ 1.20196495 -2.02452628]]\n"
          ]
        }
      ],
      "source": [
        "#Using concatenate\n",
        "data_combine = np.concatenate((rand_num, rand_num1),axis=0)\n",
        "print(data_combine)\n"
      ]
    },
    {
      "cell_type": "code",
      "source": [
        "data_combine.shape"
      ],
      "metadata": {
        "colab": {
          "base_uri": "https://localhost:8080/"
        },
        "id": "JpHzm3LMONgA",
        "outputId": "221fd327-012a-4275-af42-740eaf485d73"
      },
      "execution_count": null,
      "outputs": [
        {
          "output_type": "execute_result",
          "data": {
            "text/plain": [
              "(1000, 2)"
            ]
          },
          "metadata": {},
          "execution_count": 9
        }
      ]
    },
    {
      "cell_type": "code",
      "execution_count": null,
      "metadata": {
        "colab": {
          "base_uri": "https://localhost:8080/"
        },
        "id": "d1ZbUSrA0_on",
        "outputId": "572637d8-9337-4c1f-b320-6d707be0ffe3"
      },
      "outputs": [
        {
          "output_type": "execute_result",
          "data": {
            "text/plain": [
              "(1000, 2)"
            ]
          },
          "metadata": {},
          "execution_count": 10
        }
      ],
      "source": [
        "## Using vstack\n",
        "combined_data = np.vstack((rand_num, rand_num1))\n",
        "combined_data.shape"
      ]
    },
    {
      "cell_type": "code",
      "execution_count": null,
      "metadata": {
        "id": "Zy4np4nC0_os"
      },
      "outputs": [],
      "source": [
        "#labelproblem1 = {}\n",
        "#labelproblem1[0] = rand_num\n",
        "\n",
        "#labelproblem2 = {}\n",
        "#labelproblem2[1] = rand_num1\n",
        "\n",
        "#labelproblem1\n",
        "#labelproblem2\n"
      ]
    },
    {
      "cell_type": "code",
      "execution_count": null,
      "metadata": {
        "colab": {
          "base_uri": "https://localhost:8080/"
        },
        "id": "Q3SeT_Bf0_ov",
        "outputId": "4f89f2f7-9f44-4be2-a1ed-a3ba720c8236"
      },
      "outputs": [
        {
          "output_type": "stream",
          "name": "stdout",
          "text": [
            "[[-4.80006782 -1.54698618  0.        ]\n",
            " [-4.63714503 -0.21987973  0.        ]\n",
            " [-4.46267867 -2.08076347  0.        ]\n",
            " ...\n",
            " [-0.40484501 -3.14372258  1.        ]\n",
            " [ 0.1584315  -2.78199606  1.        ]\n",
            " [ 1.20196495 -2.02452628  1.        ]]\n"
          ]
        }
      ],
      "source": [
        "#Creating a (1000, 3) ndarray\n",
        "zeros = np.zeros(500)\n",
        "ones = np.ones(500)\n",
        "new_column = np.concatenate((zeros, ones))\n",
        "new_ndarr = np.append(combined_data, new_column[:,None], 1)\n",
        "print(new_ndarr)\n"
      ]
    },
    {
      "cell_type": "code",
      "execution_count": null,
      "metadata": {
        "colab": {
          "base_uri": "https://localhost:8080/"
        },
        "id": "rprBejOF0_oz",
        "outputId": "9bb1fdaa-974e-409e-dfe8-ec201f4b663c"
      },
      "outputs": [
        {
          "output_type": "execute_result",
          "data": {
            "text/plain": [
              "(1000, 3)"
            ]
          },
          "metadata": {},
          "execution_count": 21
        }
      ],
      "source": [
        "new_ndarr.shape"
      ]
    },
    {
      "cell_type": "code",
      "execution_count": null,
      "metadata": {
        "id": "tT5_8Y_j0_o1"
      },
      "outputs": [],
      "source": []
    }
  ],
  "metadata": {
    "kernelspec": {
      "display_name": "Python 3",
      "language": "python",
      "name": "python3"
    },
    "language_info": {
      "codemirror_mode": {
        "name": "ipython",
        "version": 3
      },
      "file_extension": ".py",
      "mimetype": "text/x-python",
      "name": "python",
      "nbconvert_exporter": "python",
      "pygments_lexer": "ipython3",
      "version": "3.8.5"
    },
    "colab": {
      "provenance": [],
      "include_colab_link": true
    }
  },
  "nbformat": 4,
  "nbformat_minor": 0
}