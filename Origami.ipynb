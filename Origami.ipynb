{
  "nbformat": 4,
  "nbformat_minor": 0,
  "metadata": {
    "colab": {
      "provenance": [],
      "authorship_tag": "ABX9TyPVsk5WauJXmwy0aZZdYWzp",
      "include_colab_link": true
    },
    "kernelspec": {
      "name": "python3",
      "display_name": "Python 3"
    },
    "language_info": {
      "name": "python"
    }
  },
  "cells": [
    {
      "cell_type": "markdown",
      "metadata": {
        "id": "view-in-github",
        "colab_type": "text"
      },
      "source": [
        "<a href=\"https://colab.research.google.com/github/Dentoniuj/studious-guide/blob/main/Origami.ipynb\" target=\"_parent\"><img src=\"https://colab.research.google.com/assets/colab-badge.svg\" alt=\"Open In Colab\"/></a>"
      ]
    },
    {
      "cell_type": "code",
      "execution_count": 1,
      "metadata": {
        "colab": {
          "base_uri": "https://localhost:8080/"
        },
        "id": "_ForxRYODvwk",
        "outputId": "e2a7fcbb-1ed4-40f6-db72-969987636150"
      },
      "outputs": [
        {
          "output_type": "stream",
          "name": "stdout",
          "text": [
            "Thickness: 703687441.77664 meters\n"
          ]
        }
      ],
      "source": [
        "Thickness = 0.00008\n",
        "folded_thickness = Thickness*2**43\n",
        "print(\"Thickness: {} meters\".format(folded_thickness))"
      ]
    },
    {
      "cell_type": "markdown",
      "source": [
        "# Question2"
      ],
      "metadata": {
        "id": "haqXNU72MFWR"
      }
    },
    {
      "cell_type": "markdown",
      "source": [],
      "metadata": {
        "id": "XWVOHN97MtFx"
      }
    },
    {
      "cell_type": "code",
      "source": [
        "#convert a meter into a kilometer and display it in two decimal places\n",
        "print(\"Thickness: {:.2f}km\".format(folded_thickness/10000))"
      ],
      "metadata": {
        "colab": {
          "base_uri": "https://localhost:8080/"
        },
        "id": "RCwmR3qCMt2n",
        "outputId": "4b6074b2-1af1-4cec-dfbf-62022a682cfa"
      },
      "execution_count": 2,
      "outputs": [
        {
          "output_type": "stream",
          "name": "stdout",
          "text": [
            "Thickness: 70368.74km\n"
          ]
        }
      ]
    },
    {
      "cell_type": "markdown",
      "source": [
        "Problem 3"
      ],
      "metadata": {
        "id": "jPt7L9KET_P-"
      }
    },
    {
      "cell_type": "code",
      "source": [
        "def number(num_folds=43, thickness=0.00008):\n",
        "  for i in range (1, num_folds + 1):\n",
        "    thickness = thickness *2*2*2*2*2*2*2*2*2*2*2*2*2*2*2*2*2*2*2*2*2*2*2*2*2*2*2*2*2*2*2*2*2*2*2*2*2*2*2*2*2*2*2\n",
        "    print(\"Thickness: {} meters\".format(thickness))\n",
        "    if thickness >=10000:\n",
        "      #convert to kilometer \n",
        "      print(\"Thickness:  {:.2f}km\".format(thickness/10000))\n",
        "    else:\n",
        "      #convert to meter \n",
        "\n",
        "      print(\"Thickness:  {:.2f}meter\".format(thickness/1000))\n",
        "  "
      ],
      "metadata": {
        "id": "BGo4kJx2Qa6h"
      },
      "execution_count": null,
      "outputs": []
    },
    {
      "cell_type": "markdown",
      "source": [
        "Question 4"
      ],
      "metadata": {
        "id": "bwVqs-f2Txts"
      }
    },
    {
      "cell_type": "code",
      "source": [
        "import time \n",
        "\n",
        "start = time.time()\n",
        "THICKNESS = 0.00008\n",
        "folded_thickness = THICKNESS*2**43\n",
        "print(\"tHICKNESS: {} meters\".format(folded_thickness))\n",
        "elapsed_time = time.time() - start\n",
        "print(\"time : {} sec\".format(elapsed_time))"
      ],
      "metadata": {
        "id": "j_hYIarsUNg4"
      },
      "execution_count": null,
      "outputs": []
    },
    {
      "cell_type": "code",
      "source": [
        "%%timeit\n",
        "folded_thickness = THICKNESS*2**43\n",
        "folded_thickness"
      ],
      "metadata": {
        "id": "hwCYMuVXWU6Z"
      },
      "execution_count": null,
      "outputs": []
    },
    {
      "cell_type": "markdown",
      "source": [
        "Problem5"
      ],
      "metadata": {
        "id": "TmM-cX6WW_ak"
      }
    },
    {
      "cell_type": "code",
      "source": [
        "#Creating an empty list \n",
        "list1 = [0.00008]\n",
        "fold_num =43\n",
        "thickness = 0.00008\n",
        "\n",
        "#folded_thickness =\n",
        "for i in range(1, fold_num + 1):\n",
        "  folded_thickness = thickness*2**i\n",
        "\n",
        "  #Adding values to the list \n",
        "  list1.append(folded_thickness)\n",
        "  print(list1)\n",
        "  print(len(list1))"
      ],
      "metadata": {
        "id": "nF-CMV9XXFW4"
      },
      "execution_count": null,
      "outputs": []
    },
    {
      "cell_type": "code",
      "source": [
        "print(len(list1))"
      ],
      "metadata": {
        "id": "AnyGxEWPYPaF"
      },
      "execution_count": null,
      "outputs": []
    },
    {
      "cell_type": "markdown",
      "source": [
        "Problem 6"
      ],
      "metadata": {
        "id": "UqPUKZwDYWnb"
      }
    },
    {
      "cell_type": "markdown",
      "source": [],
      "metadata": {
        "id": "kfkOyVJiYa4b"
      }
    },
    {
      "cell_type": "code",
      "source": [
        "import matplotlib.pyplot as plt\n",
        "#%matplotlib inline\n",
        "\n",
        "plt.title(\"thickness of folded paper\")\n",
        "plt.xlabel(\"number of folds\")\n",
        "plt.ylabel(\"thickness[M]\")\n",
        "plt.tick_params(labelsize=10)\n",
        "plt.plot(list1)\n",
        "plt.show()"
      ],
      "metadata": {
        "colab": {
          "base_uri": "https://localhost:8080/",
          "height": 295
        },
        "id": "qBt_FtRNYby6",
        "outputId": "824c58f7-5a87-4e5c-ee65-621f16dab0b5"
      },
      "execution_count": 12,
      "outputs": [
        {
          "output_type": "display_data",
          "data": {
            "text/plain": [
              "<Figure size 432x288 with 1 Axes>"
            ],
            "image/png": "[encoded data removed]"
          },
          "metadata": {
            "needs_background": "light"
          }
        }
      ]
    },
    {
      "cell_type": "markdown",
      "source": [
        "The graph shows that the thickness of the line increases when the number of the fold increases."
      ],
      "metadata": {
        "id": "nhYrFluJ743b"
      }
    },
    {
      "cell_type": "markdown",
      "source": [
        "Question 7 "
      ],
      "metadata": {
        "id": "rXnp8nrJ9siO"
      }
    },
    {
      "cell_type": "code",
      "source": [
        "#Making the line dotted \n",
        "plt.title(\"thickness of folded paper\")\n",
        "plt.xlabel(\"number of folds\")\n",
        "plt.ylabel(\"thickness[M]\")\n",
        "#changing line style and color\n",
        "plt.plot(list1, 'ro')\n",
        "\n",
        "plt.figure(figsize=(48, 24))\n",
        "plt.show()\n",
        "\n",
        "\n"
      ],
      "metadata": {
        "colab": {
          "base_uri": "https://localhost:8080/",
          "height": 312
        },
        "id": "li7bhiDL9wP3",
        "outputId": "fe4b70ea-417f-48c9-d8be-e2e05cc45a0f"
      },
      "execution_count": 24,
      "outputs": [
        {
          "output_type": "display_data",
          "data": {
            "text/plain": [
              "<Figure size 432x288 with 1 Axes>"
            ],
            "image/png": "[encoded data removed]"
          },
          "metadata": {
            "needs_background": "light"
          }
        },
        {
          "output_type": "display_data",
          "data": {
            "text/plain": [
              "<Figure size 3456x1728 with 0 Axes>"
            ]
          },
          "metadata": {}
        }
      ]
    },
    {
      "cell_type": "code",
      "source": [
        "plt.title(\"thickness of folded paper\")\n",
        "plt.xlabel(\"number of folds\")\n",
        "plt.ylabel(\"thickness[m]\")\n",
        "#changing line style and color \n",
        "plt.plot(list1, color='green', linewidth=4.0)\n",
        "plt.tick_params(labelsize=20)\n",
        "plt.figure(figsize=(48, 24))\n",
        "plt.show()\n"
      ],
      "metadata": {
        "colab": {
          "base_uri": "https://localhost:8080/",
          "height": 321
        },
        "id": "VjQcdyEwCvph",
        "outputId": "7554565b-4c9b-46d0-82d1-bee9f0a39918"
      },
      "execution_count": 26,
      "outputs": [
        {
          "output_type": "display_data",
          "data": {
            "text/plain": [
              "<Figure size 432x288 with 1 Axes>"
            ],
            "image/png": "[encoded data removed]"
          },
          "metadata": {
            "needs_background": "light"
          }
        },
        {
          "output_type": "display_data",
          "data": {
            "text/plain": [
              "<Figure size 3456x1728 with 0 Axes>"
            ]
          },
          "metadata": {}
        }
      ]
    }
  ]
}