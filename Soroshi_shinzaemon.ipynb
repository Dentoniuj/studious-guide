{
  "nbformat": 4,
  "nbformat_minor": 0,
  "metadata": {
    "colab": {
      "provenance": [],
      "authorship_tag": "ABX9TyN0hszR59ZoKmymXP3lyDku",
      "include_colab_link": true
    },
    "kernelspec": {
      "name": "python3",
      "display_name": "Python 3"
    },
    "language_info": {
      "name": "python"
    }
  },
  "cells": [
    {
      "cell_type": "markdown",
      "metadata": {
        "id": "view-in-github",
        "colab_type": "text"
      },
      "source": [
        "<a href=\"https://colab.research.google.com/github/Dentoniuj/studious-guide/blob/main/Soroshi_shinzaemon.ipynb\" target=\"_parent\"><img src=\"https://colab.research.google.com/assets/colab-badge.svg\" alt=\"Open In Colab\"/></a>"
      ]
    },
    {
      "cell_type": "code",
      "execution_count": null,
      "metadata": {
        "id": "IeDWx8fXE-Ob"
      },
      "outputs": [],
      "source": [
        "num_days = 100\n",
        "total_grain_rice = 1 \n",
        "\n",
        "for i in range (1, num_days + 1):\n",
        "  print(i, total_grain_rice) #show the amount of grains received for that day \n",
        "  total_grain_rice *= 2\n",
        "\n",
        "  #grain of rice in the 100th day \n",
        "  #print(\"sum of rice in\", i, \"days is: \", total_grain_rice)"
      ]
    },
    {
      "cell_type": "code",
      "source": [
        "num_days = 100\n",
        "total_grain_rice = 1\n",
        "#creating the values for the x and y axis \n",
        "xaxis = list(range(1, num_days + 1))\n",
        "yaxis = []\n",
        "\n",
        "for i in range(1, num_days + 1,):\n",
        "  #list the change in the rice grain \n",
        "  print(\" For day:{} the total grain is: {}\".format(i, total_grain_rice))\n",
        "\n",
        "  #appending the total grain rice into the list of the yaxis\n",
        "  yaxis.append(total_grain_rice)\n",
        "  total_grain_rice = 2**i\n",
        "  \n",
        "  print (\"sum of rice in\", i, \"days is: \", total_grain_rice)\n"
      ],
      "metadata": {
        "id": "i3JguHMTGJSU"
      },
      "execution_count": null,
      "outputs": []
    },
    {
      "cell_type": "code",
      "source": [
        "#plotting the graph\n",
        "import matplotlib.pyplot as plt\n",
        "\n",
        "plt.xlabel('Number of Days')\n",
        "plt.ylabel('Number of Rice')\n",
        "plt.title('Change in the Number of Rice Grain')\n",
        "plt.plot(xaxis, yaxis, linewidth=3.5)\n",
        "plt.tick_params(labelsize=10)\n",
        "plt.figure(figsize=(45, 25))\n",
        "plt.show()"
      ],
      "metadata": {
        "colab": {
          "base_uri": "https://localhost:8080/",
          "height": 312
        },
        "id": "496J_Nl5I07U",
        "outputId": "6933e801-6c6e-47eb-fbf3-3d2984abba1d"
      },
      "execution_count": 6,
      "outputs": [
        {
          "output_type": "display_data",
          "data": {
            "text/plain": [
              "<Figure size 432x288 with 1 Axes>"
            ],
            "image/png": "[encoded data removed]"
          },
          "metadata": {
            "needs_background": "light"
          }
        },
        {
          "output_type": "display_data",
          "data": {
            "text/plain": [
              "<Figure size 3240x1800 with 0 Axes>"
            ]
          },
          "metadata": {}
        }
      ]
    },
    {
      "cell_type": "markdown",
      "source": [
        "Question 2 "
      ],
      "metadata": {
        "id": "6MD5jApLKAHV"
      }
    },
    {
      "cell_type": "code",
      "source": [
        "#create a function\n",
        "def compute_sorori_shinzaemon(day=100):\n",
        "  #List containing number of days \n",
        "  list_n_days1 = [(lambda x: x)(x) for x in range(1, day + 1)]\n",
        "\n",
        "  #This list show the total number of rice received per day \n",
        "  list_total_grains1 = [2**x for x in range(day) ]\n",
        "  pass\n",
        "  return list_n_days1, list_total_grains1\n",
        "  \"\"\"\n",
        "  The function to calculate the amount of rice per day  \n",
        "  for the number of days he/she has taken this course\n",
        "  It also take input from users.\n",
        "  \"\"\"\n",
        "\n",
        "list_n_days1, list_total_grains1= compute_sorori_shinzaemon(int(input(\"Days amount Entered: \")))\n",
        "\n",
        "#index function to call the total amount\n",
        "print(\"days: {}\".format(list_n_days1[-1]))\n",
        "#index function to call the total amount \n",
        "print(\"grains: {}\".format(list_total_grains1[-1]))"
      ],
      "metadata": {
        "colab": {
          "base_uri": "https://localhost:8080/"
        },
        "id": "_t2bXSwpKE5l",
        "outputId": "9327bfb3-5244-420f-a938-e5c5cf1190cf"
      },
      "execution_count": 23,
      "outputs": [
        {
          "output_type": "stream",
          "name": "stdout",
          "text": [
            "Days amount Entered: 64\n",
            "days: 64\n",
            "grains: 9223372036854775808\n"
          ]
        }
      ]
    },
    {
      "cell_type": "code",
      "source": [
        "import matplotlib.pyplot as plt \n",
        "\n",
        "plt.xlabel('Number of Days')\n",
        "plt.ylabel('Number of Rice')\n",
        "plt.plot(list_n_days1, list_total_grains1, linewidth=3.5)\n",
        "plt.tick_params(labelsize=10)\n",
        "plt.figure(figsize=(48, 24))\n",
        "plt.show()"
      ],
      "metadata": {
        "colab": {
          "base_uri": "https://localhost:8080/",
          "height": 307
        },
        "id": "NsC91_L9dP8r",
        "outputId": "18bf6dba-3e97-411c-f501-e43d39f87fe7"
      },
      "execution_count": 24,
      "outputs": [
        {
          "output_type": "display_data",
          "data": {
            "text/plain": [
              "<Figure size 432x288 with 1 Axes>"
            ],
            "image/png": "[encoded data removed]"
          },
          "metadata": {
            "needs_background": "light"
          }
        },
        {
          "output_type": "display_data",
          "data": {
            "text/plain": [
              "<Figure size 3456x1728 with 0 Axes>"
            ]
          },
          "metadata": {}
        }
      ]
    },
    {
      "cell_type": "markdown",
      "source": [
        "Question 3 "
      ],
      "metadata": {
        "id": "kMBiLnWgebLw"
      }
    },
    {
      "cell_type": "markdown",
      "source": [
        "The United Nations World Food Program estimated that it takes about 400 grams or about 19,200 grains of rice to feed an adult a day "
      ],
      "metadata": {
        "id": "7mw0I8_ufrnL"
      }
    },
    {
      "cell_type": "code",
      "source": [
        "#create a function \n",
        "def compute_n_days(number_of_grain, number_of_people, ):\n",
        "\n",
        "  days_to_live = total_grain_rice/(number_of_grain*number_of_people)\n",
        "  number_of_people = total_grain_rice/(number_of_grain*days_to_live)\n",
        "  return days_to_live \n",
        "days_to_live = compute_n_days(number_of_grain=19200, number_of_people=30)\n",
        "print(\"{} DAYS\".format(days_to_live))"
      ],
      "metadata": {
        "colab": {
          "base_uri": "https://localhost:8080/"
        },
        "id": "KgKkQJ6zgPE1",
        "outputId": "a2e2c8a3-8bfe-40cf-a782-667b4eb91635"
      },
      "execution_count": 29,
      "outputs": [
        {
          "output_type": "stream",
          "name": "stdout",
          "text": [
            "2.2007822920628984e+24 DAYS\n"
          ]
        }
      ]
    }
  ]
}